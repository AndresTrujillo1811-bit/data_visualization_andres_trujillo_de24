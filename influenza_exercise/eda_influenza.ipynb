{
 "cells": [
  {
   "cell_type": "markdown",
   "id": "48fbbb5e",
   "metadata": {},
   "source": [
    "# EDA - Influenza"
   ]
  },
  {
   "cell_type": "code",
   "execution_count": null,
   "id": "543a4828",
   "metadata": {},
   "outputs": [],
   "source": [
    "import pandas as pd\n",
    "import duckdb\n",
    "\n",
    "df = pd.read_csv()"
   ]
  }
 ],
 "metadata": {
  "kernelspec": {
   "display_name": ".venv",
   "language": "python",
   "name": "python3"
  },
  "language_info": {
   "name": "python",
   "version": "3.12.5"
  }
 },
 "nbformat": 4,
 "nbformat_minor": 5
}
